{
 "cells": [
  {
   "cell_type": "code",
   "execution_count": 17,
   "id": "eeac997d",
   "metadata": {},
   "outputs": [
    {
     "name": "stdout",
     "output_type": "stream",
     "text": [
      "101\n",
      "110\n",
      "1011\n"
     ]
    }
   ],
   "source": [
    "#Задача 1\n",
    "\n",
    "a = str(input())\n",
    "b = str(input())\n",
    "\n",
    "a1 = 0\n",
    "b1 = 0\n",
    "\n",
    "for i in range (max(len(a), len(b))):\n",
    "    if len(a) > i:\n",
    "        a1 += int(a[-(i+1)]) * (2 ** i)\n",
    "    if len(b) > i:\n",
    "        b1 += int(b[-(i+1)]) * (2 ** i)\n",
    "\n",
    "s = str(bin(a1 + b1))\n",
    "\n",
    "print(s[2:])"
   ]
  },
  {
   "cell_type": "code",
   "execution_count": 43,
   "id": "e287622d",
   "metadata": {},
   "outputs": [
    {
     "name": "stdout",
     "output_type": "stream",
     "text": [
      "701\n",
      "ZY\n"
     ]
    }
   ],
   "source": [
    "#задача 2\n",
    "\n",
    "c_num = int(input())\n",
    "\n",
    "let = ['A', 'B', 'C', 'D', 'E', 'F', 'G', 'H', 'I', 'J', 'K', 'L', 'M', 'N', 'O', 'P', 'Q', \n",
    "       'R', 'S', 'T', 'U', 'V', 'W', 'X', 'Y', 'Z']\n",
    "out = []\n",
    "\n",
    "while True:\n",
    "    if c_num <= 0:\n",
    "        break\n",
    "    if c_num % 26 == 0:\n",
    "        out.insert(0, 'Z')\n",
    "        c_num = c_num // 27\n",
    "        continue\n",
    "    out.insert(0, let[c_num % 26 - 1])\n",
    "    c_num //= 26\n",
    "    \n",
    "print(''.join(map(str, out)))"
   ]
  }
 ],
 "metadata": {
  "kernelspec": {
   "display_name": "Python 3 (ipykernel)",
   "language": "python",
   "name": "python3"
  },
  "language_info": {
   "codemirror_mode": {
    "name": "ipython",
    "version": 3
   },
   "file_extension": ".py",
   "mimetype": "text/x-python",
   "name": "python",
   "nbconvert_exporter": "python",
   "pygments_lexer": "ipython3",
   "version": "3.9.13"
  }
 },
 "nbformat": 4,
 "nbformat_minor": 5
}
